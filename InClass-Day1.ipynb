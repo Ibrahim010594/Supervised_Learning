{
 "cells": [
  {
   "cell_type": "code",
   "execution_count": 2,
   "metadata": {},
   "outputs": [],
   "source": [
    "import numpy as np\n",
    "import pandas as pd\n",
    "from pandas import Series,DataFrame\n",
    "import matplotlib.pyplot as plt\n",
    "import seaborn as sns\n",
    "import scipy.stats as stats"
   ]
  },
  {
   "cell_type": "markdown",
   "metadata": {},
   "source": [
    "- pelvic_incidence\n",
    "- pelvic_tilt\n",
    "- lumbar_lordosis_angle\n",
    "- sacral_slope\n",
    "- pelvic_radius\n",
    "- degree_spondylolisthesis\n",
    "- pelvic_slope\n",
    "- Direct_tilt\n",
    "- thoracic_slope\n",
    "- cervical_tilt\n",
    "- sacrum_angle\n",
    "- scoliosis_slope"
   ]
  },
  {
   "cell_type": "code",
   "execution_count": 3,
   "metadata": {},
   "outputs": [
    {
     "data": {
      "text/html": [
       "<div>\n",
       "<style scoped>\n",
       "    .dataframe tbody tr th:only-of-type {\n",
       "        vertical-align: middle;\n",
       "    }\n",
       "\n",
       "    .dataframe tbody tr th {\n",
       "        vertical-align: top;\n",
       "    }\n",
       "\n",
       "    .dataframe thead th {\n",
       "        text-align: right;\n",
       "    }\n",
       "</style>\n",
       "<table border=\"1\" class=\"dataframe\">\n",
       "  <thead>\n",
       "    <tr style=\"text-align: right;\">\n",
       "      <th></th>\n",
       "      <th>pelvic_incidence</th>\n",
       "      <th>pelvic_tilt</th>\n",
       "      <th>lumbar_lordosis_angle</th>\n",
       "      <th>sacral_slope</th>\n",
       "      <th>pelvic_radius</th>\n",
       "      <th>degree_spondylolisthesis</th>\n",
       "      <th>pelvic_slope</th>\n",
       "      <th>direct_tilt</th>\n",
       "      <th>thoracic_slope</th>\n",
       "      <th>cervical_tilt</th>\n",
       "      <th>sacrum_angle</th>\n",
       "      <th>scoliosis_slope</th>\n",
       "      <th>status</th>\n",
       "    </tr>\n",
       "  </thead>\n",
       "  <tbody>\n",
       "    <tr>\n",
       "      <th>0</th>\n",
       "      <td>63.027818</td>\n",
       "      <td>22.552586</td>\n",
       "      <td>39.609117</td>\n",
       "      <td>40.475232</td>\n",
       "      <td>98.672917</td>\n",
       "      <td>-0.254400</td>\n",
       "      <td>0.744503</td>\n",
       "      <td>12.5661</td>\n",
       "      <td>14.5386</td>\n",
       "      <td>15.30468</td>\n",
       "      <td>-28.658501</td>\n",
       "      <td>43.5123</td>\n",
       "      <td>Abnormal</td>\n",
       "    </tr>\n",
       "    <tr>\n",
       "      <th>1</th>\n",
       "      <td>39.056951</td>\n",
       "      <td>10.060991</td>\n",
       "      <td>25.015378</td>\n",
       "      <td>28.995960</td>\n",
       "      <td>114.405425</td>\n",
       "      <td>4.564259</td>\n",
       "      <td>0.415186</td>\n",
       "      <td>12.8874</td>\n",
       "      <td>17.5323</td>\n",
       "      <td>16.78486</td>\n",
       "      <td>-25.530607</td>\n",
       "      <td>16.1102</td>\n",
       "      <td>Abnormal</td>\n",
       "    </tr>\n",
       "    <tr>\n",
       "      <th>2</th>\n",
       "      <td>68.832021</td>\n",
       "      <td>22.218482</td>\n",
       "      <td>50.092194</td>\n",
       "      <td>46.613539</td>\n",
       "      <td>105.985135</td>\n",
       "      <td>-3.530317</td>\n",
       "      <td>0.474889</td>\n",
       "      <td>26.8343</td>\n",
       "      <td>17.4861</td>\n",
       "      <td>16.65897</td>\n",
       "      <td>-29.031888</td>\n",
       "      <td>19.2221</td>\n",
       "      <td>Abnormal</td>\n",
       "    </tr>\n",
       "    <tr>\n",
       "      <th>3</th>\n",
       "      <td>69.297008</td>\n",
       "      <td>24.652878</td>\n",
       "      <td>44.311238</td>\n",
       "      <td>44.644130</td>\n",
       "      <td>101.868495</td>\n",
       "      <td>11.211523</td>\n",
       "      <td>0.369345</td>\n",
       "      <td>23.5603</td>\n",
       "      <td>12.7074</td>\n",
       "      <td>11.42447</td>\n",
       "      <td>-30.470246</td>\n",
       "      <td>18.8329</td>\n",
       "      <td>Abnormal</td>\n",
       "    </tr>\n",
       "    <tr>\n",
       "      <th>4</th>\n",
       "      <td>49.712859</td>\n",
       "      <td>9.652075</td>\n",
       "      <td>28.317406</td>\n",
       "      <td>40.060784</td>\n",
       "      <td>108.168725</td>\n",
       "      <td>7.918501</td>\n",
       "      <td>0.543360</td>\n",
       "      <td>35.4940</td>\n",
       "      <td>15.9546</td>\n",
       "      <td>8.87237</td>\n",
       "      <td>-16.378376</td>\n",
       "      <td>24.9171</td>\n",
       "      <td>Abnormal</td>\n",
       "    </tr>\n",
       "  </tbody>\n",
       "</table>\n",
       "</div>"
      ],
      "text/plain": [
       "   pelvic_incidence  pelvic_tilt  lumbar_lordosis_angle  sacral_slope  \\\n",
       "0         63.027818    22.552586              39.609117     40.475232   \n",
       "1         39.056951    10.060991              25.015378     28.995960   \n",
       "2         68.832021    22.218482              50.092194     46.613539   \n",
       "3         69.297008    24.652878              44.311238     44.644130   \n",
       "4         49.712859     9.652075              28.317406     40.060784   \n",
       "\n",
       "   pelvic_radius  degree_spondylolisthesis  pelvic_slope  direct_tilt  \\\n",
       "0      98.672917                 -0.254400      0.744503      12.5661   \n",
       "1     114.405425                  4.564259      0.415186      12.8874   \n",
       "2     105.985135                 -3.530317      0.474889      26.8343   \n",
       "3     101.868495                 11.211523      0.369345      23.5603   \n",
       "4     108.168725                  7.918501      0.543360      35.4940   \n",
       "\n",
       "   thoracic_slope  cervical_tilt  sacrum_angle  scoliosis_slope    status  \n",
       "0         14.5386       15.30468    -28.658501          43.5123  Abnormal  \n",
       "1         17.5323       16.78486    -25.530607          16.1102  Abnormal  \n",
       "2         17.4861       16.65897    -29.031888          19.2221  Abnormal  \n",
       "3         12.7074       11.42447    -30.470246          18.8329  Abnormal  \n",
       "4         15.9546        8.87237    -16.378376          24.9171  Abnormal  "
      ]
     },
     "execution_count": 3,
     "metadata": {},
     "output_type": "execute_result"
    }
   ],
   "source": [
    "bp = pd.read_csv('backpain.csv',usecols=range(13))\n",
    "bp.columns = ['pelvic_incidence','pelvic_tilt','lumbar_lordosis_angle','sacral_slope','pelvic_radius',\n",
    "              'degree_spondylolisthesis','pelvic_slope','direct_tilt','thoracic_slope','cervical_tilt',\n",
    "              'sacrum_angle','scoliosis_slope','status']\n",
    "bp.head()"
   ]
  },
  {
   "cell_type": "code",
   "execution_count": 4,
   "metadata": {},
   "outputs": [
    {
     "name": "stdout",
     "output_type": "stream",
     "text": [
      "<class 'pandas.core.frame.DataFrame'>\n",
      "RangeIndex: 310 entries, 0 to 309\n",
      "Data columns (total 13 columns):\n",
      "pelvic_incidence            310 non-null float64\n",
      "pelvic_tilt                 310 non-null float64\n",
      "lumbar_lordosis_angle       310 non-null float64\n",
      "sacral_slope                310 non-null float64\n",
      "pelvic_radius               310 non-null float64\n",
      "degree_spondylolisthesis    310 non-null float64\n",
      "pelvic_slope                310 non-null float64\n",
      "direct_tilt                 310 non-null float64\n",
      "thoracic_slope              310 non-null float64\n",
      "cervical_tilt               310 non-null float64\n",
      "sacrum_angle                310 non-null float64\n",
      "scoliosis_slope             310 non-null float64\n",
      "status                      310 non-null object\n",
      "dtypes: float64(12), object(1)\n",
      "memory usage: 31.6+ KB\n"
     ]
    }
   ],
   "source": [
    "bp.info()"
   ]
  },
  {
   "cell_type": "code",
   "execution_count": 5,
   "metadata": {},
   "outputs": [
    {
     "data": {
      "text/plain": [
       "Abnormal    210\n",
       "Normal      100\n",
       "Name: status, dtype: int64"
      ]
     },
     "execution_count": 5,
     "metadata": {},
     "output_type": "execute_result"
    }
   ],
   "source": [
    "bp['status'].value_counts()"
   ]
  },
  {
   "cell_type": "code",
   "execution_count": 6,
   "metadata": {},
   "outputs": [
    {
     "data": {
      "text/plain": [
       "pelvic_incidence            0\n",
       "pelvic_tilt                 0\n",
       "lumbar_lordosis_angle       0\n",
       "sacral_slope                0\n",
       "pelvic_radius               0\n",
       "degree_spondylolisthesis    0\n",
       "pelvic_slope                0\n",
       "direct_tilt                 0\n",
       "thoracic_slope              0\n",
       "cervical_tilt               0\n",
       "sacrum_angle                0\n",
       "scoliosis_slope             0\n",
       "status                      0\n",
       "dtype: int64"
      ]
     },
     "execution_count": 6,
     "metadata": {},
     "output_type": "execute_result"
    }
   ],
   "source": [
    "bp.isnull().sum()"
   ]
  },
  {
   "cell_type": "code",
   "execution_count": 7,
   "metadata": {},
   "outputs": [
    {
     "data": {
      "text/plain": [
       "count          310\n",
       "unique           2\n",
       "top       Abnormal\n",
       "freq           210\n",
       "Name: status, dtype: object"
      ]
     },
     "execution_count": 7,
     "metadata": {},
     "output_type": "execute_result"
    }
   ],
   "source": [
    "bp['status'].describe()"
   ]
  },
  {
   "cell_type": "code",
   "execution_count": 8,
   "metadata": {},
   "outputs": [
    {
     "data": {
      "image/png": "[encoded data removed]",
      "text/plain": [
       "<Figure size 432x288 with 1 Axes>"
      ]
     },
     "metadata": {
      "needs_background": "light"
     },
     "output_type": "display_data"
    }
   ],
   "source": [
    "sns.heatmap(bp.isnull(),cbar=False)\n",
    "plt.show()"
   ]
  },
  {
   "cell_type": "code",
   "execution_count": 9,
   "metadata": {},
   "outputs": [
    {
     "data": {
      "image/png": "[encoded data removed]",
      "text/plain": [
       "<Figure size 720x576 with 2 Axes>"
      ]
     },
     "metadata": {
      "needs_background": "light"
     },
     "output_type": "display_data"
    }
   ],
   "source": [
    "plt.figure(figsize=(10,8))\n",
    "\n",
    "corr_bp = bp.corr()\n",
    "mask = np.zeros_like(corr_bp, dtype=np.bool)\n",
    "mask[np.triu_indices_from(mask)] = True\n",
    "\n",
    "sns.heatmap(bp.corr(), annot=True, mask=mask, center=0, square=True, linewidths=0.5)\n",
    "plt.show()"
   ]
  },
  {
   "cell_type": "code",
   "execution_count": 10,
   "metadata": {},
   "outputs": [],
   "source": [
    "bp_status = bp.groupby('status')\n",
    "bp_normal = bp_status.get_group('Normal')\n",
    "bp_abnormal = bp_status.get_group('Abnormal')"
   ]
  },
  {
   "cell_type": "code",
   "execution_count": 11,
   "metadata": {},
   "outputs": [
    {
     "data": {
      "text/plain": [
       "(0.9573341608047485, 0.002607749542221427)"
      ]
     },
     "execution_count": 11,
     "metadata": {},
     "output_type": "execute_result"
    }
   ],
   "source": [
    "stats.shapiro(bp_normal['pelvic_incidence'])"
   ]
  },
  {
   "cell_type": "code",
   "execution_count": 12,
   "metadata": {},
   "outputs": [
    {
     "data": {
      "text/plain": [
       "(0.9792839884757996, 0.003460382577031851)"
      ]
     },
     "execution_count": 12,
     "metadata": {},
     "output_type": "execute_result"
    }
   ],
   "source": [
    "stats.shapiro(bp_abnormal['pelvic_incidence'])"
   ]
  },
  {
   "cell_type": "code",
   "execution_count": 13,
   "metadata": {},
   "outputs": [
    {
     "data": {
      "text/plain": [
       "BartlettResult(statistic=15.386302459147464, pvalue=8.762115666952999e-05)"
      ]
     },
     "execution_count": 13,
     "metadata": {},
     "output_type": "execute_result"
    }
   ],
   "source": [
    "stats.bartlett(bp_normal['pelvic_incidence'],bp_abnormal['pelvic_incidence'])"
   ]
  },
  {
   "cell_type": "code",
   "execution_count": 14,
   "metadata": {},
   "outputs": [
    {
     "data": {
      "text/plain": [
       "MannwhitneyuResult(statistic=5820.0, pvalue=1.1260773170594985e-10)"
      ]
     },
     "execution_count": 14,
     "metadata": {},
     "output_type": "execute_result"
    }
   ],
   "source": [
    "stats.mannwhitneyu(bp_normal['pelvic_incidence'],bp_abnormal['pelvic_incidence'])"
   ]
  },
  {
   "cell_type": "code",
   "execution_count": 15,
   "metadata": {},
   "outputs": [
    {
     "data": {
      "text/plain": [
       "F_onewayResult(statistic=43.938147520704675, pvalue=1.516337137438033e-10)"
      ]
     },
     "execution_count": 15,
     "metadata": {},
     "output_type": "execute_result"
    }
   ],
   "source": [
    "stats.f_oneway(bp_normal['pelvic_incidence'],bp_abnormal['pelvic_incidence'])"
   ]
  },
  {
   "cell_type": "code",
   "execution_count": 16,
   "metadata": {},
   "outputs": [
    {
     "name": "stdout",
     "output_type": "stream",
     "text": [
      "Multiple Comparison of Means - Tukey HSD,FWER=0.05\n",
      "================================================\n",
      " group1  group2 meandiff  lower    upper  reject\n",
      "------------------------------------------------\n",
      "Abnormal Normal -13.0073 -16.8685 -9.1461  True \n",
      "------------------------------------------------\n",
      "['Abnormal' 'Normal']\n"
     ]
    }
   ],
   "source": [
    "from statsmodels.stats.multicomp import pairwise_tukeyhsd\n",
    "from statsmodels.stats.multicomp import MultiComparison\n",
    "\n",
    "mc = MultiComparison(bp['pelvic_incidence'], bp['status'])\n",
    "result = mc.tukeyhsd()\n",
    " \n",
    "print(result)\n",
    "print(mc.groupsunique)"
   ]
  },
  {
   "cell_type": "code",
   "execution_count": 17,
   "metadata": {},
   "outputs": [
    {
     "data": {
      "image/png": "[encoded data removed]",
      "text/plain": [
       "<Figure size 1080x1080 with 12 Axes>"
      ]
     },
     "metadata": {
      "needs_background": "light"
     },
     "output_type": "display_data"
    }
   ],
   "source": [
    "fig,ax = plt.subplots(3,4,figsize=(15,15))\n",
    "ax = ax.flatten()\n",
    "for i in range(0,len(bp.columns)-1):\n",
    "    sns.boxplot(x='status',y=bp.iloc[:,i],data=bp,orient='v',ax=ax[i])\n",
    "    \n",
    "plt.tight_layout()\n",
    "plt.show()"
   ]
  },
  {
   "cell_type": "code",
   "execution_count": 18,
   "metadata": {},
   "outputs": [
    {
     "data": {
      "text/plain": [
       "1    210\n",
       "0    100\n",
       "Name: status, dtype: int64"
      ]
     },
     "execution_count": 18,
     "metadata": {},
     "output_type": "execute_result"
    }
   ],
   "source": [
    "bp.loc[bp.status=='Abnormal','status'] = 1\n",
    "bp.loc[bp.status=='Normal','status'] = 0\n",
    "bp['status'].value_counts()"
   ]
  },
  {
   "cell_type": "code",
   "execution_count": 19,
   "metadata": {},
   "outputs": [],
   "source": [
    "x = bp.drop('status',axis=1)\n",
    "y = bp['status']"
   ]
  },
  {
   "cell_type": "code",
   "execution_count": 20,
   "metadata": {},
   "outputs": [],
   "source": [
    "from sklearn.preprocessing import StandardScaler\n",
    "from sklearn.model_selection import train_test_split\n",
    "def data_preprocess(x,y):\n",
    "    xtrain,xtest,ytrain,ytest = train_test_split(x,y,test_size=0.3,random_state=0)\n",
    "    scaler = StandardScaler(copy=True, with_mean=True, with_std=True)\n",
    "    \n",
    "    scaler.fit(xtrain)\n",
    "    \n",
    "    train_scaled = scaler.transform(xtrain)\n",
    "    test_scaled = scaler.transform(xtest)\n",
    "    return (train_scaled,test_scaled,ytrain,ytest)"
   ]
  },
  {
   "cell_type": "code",
   "execution_count": 21,
   "metadata": {},
   "outputs": [],
   "source": [
    "from sklearn.linear_model import LogisticRegression\n",
    "def logistic_regression(x,y):\n",
    "    logreg = LogisticRegression().fit(x,y)\n",
    "    return logreg"
   ]
  },
  {
   "cell_type": "code",
   "execution_count": 22,
   "metadata": {},
   "outputs": [
    {
     "name": "stderr",
     "output_type": "stream",
     "text": [
      "C:\\Users\\mohit\\Anaconda3\\lib\\site-packages\\sklearn\\linear_model\\logistic.py:433: FutureWarning: Default solver will be changed to 'lbfgs' in 0.22. Specify a solver to silence this warning.\n",
      "  FutureWarning)\n"
     ]
    }
   ],
   "source": [
    "xtrain_scaled, xtest_scaled, ytrain, ytest = data_preprocess(x,y)\n",
    "logreg_result = logistic_regression(xtrain_scaled, ytrain)"
   ]
  },
  {
   "cell_type": "code",
   "execution_count": 23,
   "metadata": {},
   "outputs": [
    {
     "name": "stdout",
     "output_type": "stream",
     "text": [
      "Training set score = 0.871\n",
      "Test set score = 0.817\n"
     ]
    }
   ],
   "source": [
    "print('Training set score = {:.3f}'.format(logreg_result.score(xtrain_scaled,ytrain)))\n",
    "print('Test set score = {:.3f}'.format(logreg_result.score(xtest_scaled,ytest)))"
   ]
  },
  {
   "cell_type": "code",
   "execution_count": 24,
   "metadata": {},
   "outputs": [
    {
     "name": "stdout",
     "output_type": "stream",
     "text": [
      "Warning: Maximum number of iterations has been exceeded.\n",
      "         Current function value: 0.473055\n",
      "         Iterations: 35\n"
     ]
    },
    {
     "name": "stderr",
     "output_type": "stream",
     "text": [
      "C:\\Users\\mohit\\Anaconda3\\lib\\site-packages\\statsmodels\\base\\model.py:508: ConvergenceWarning: Maximum Likelihood optimization failed to converge. Check mle_retvals\n",
      "  \"Check mle_retvals\", ConvergenceWarning)\n"
     ]
    },
    {
     "data": {
      "text/html": [
       "<table class=\"simpletable\">\n",
       "<tr>\n",
       "        <td>Model:</td>              <td>Logit</td>      <td>Pseudo R-squared:</td>    <td>0.248</td>  \n",
       "</tr>\n",
       "<tr>\n",
       "  <td>Dependent Variable:</td>      <td>status</td>            <td>AIC:</td>         <td>229.3058</td> \n",
       "</tr>\n",
       "<tr>\n",
       "         <td>Date:</td>        <td>2019-08-27 12:01</td>       <td>BIC:</td>         <td>269.8646</td> \n",
       "</tr>\n",
       "<tr>\n",
       "   <td>No. Observations:</td>         <td>217</td>        <td>Log-Likelihood:</td>    <td>-102.65</td> \n",
       "</tr>\n",
       "<tr>\n",
       "       <td>Df Model:</td>             <td>11</td>            <td>LL-Null:</td>        <td>-136.45</td> \n",
       "</tr>\n",
       "<tr>\n",
       "     <td>Df Residuals:</td>           <td>205</td>         <td>LLR p-value:</td>    <td>3.4943e-10</td>\n",
       "</tr>\n",
       "<tr>\n",
       "      <td>Converged:</td>           <td>0.0000</td>           <td>Scale:</td>         <td>1.0000</td>  \n",
       "</tr>\n",
       "<tr>\n",
       "    <td>No. Iterations:</td>        <td>35.0000</td>             <td></td>               <td></td>     \n",
       "</tr>\n",
       "</table>\n",
       "<table class=\"simpletable\">\n",
       "<tr>\n",
       "   <td></td>    <th>Coef.</th>    <th>Std.Err.</th>       <th>z</th>     <th>P>|z|</th>     <th>[0.025</th>        <th>0.975]</th>    \n",
       "</tr>\n",
       "<tr>\n",
       "  <th>x1</th>  <td>0.0814</td>  <td>11482676.3676</td> <td>0.0000</td>  <td>1.0000</td> <td>-22505632.0452</td> <td>22505632.2080</td>\n",
       "</tr>\n",
       "<tr>\n",
       "  <th>x2</th>  <td>0.0765</td>  <td>6545064.3181</td>  <td>0.0000</td>  <td>1.0000</td> <td>-12828090.2634</td> <td>12828090.4165</td>\n",
       "</tr>\n",
       "<tr>\n",
       "  <th>x3</th>  <td>-0.2797</td>    <td>0.3142</td>     <td>-0.8904</td> <td>0.3733</td>     <td>-0.8955</td>       <td>0.3361</td>    \n",
       "</tr>\n",
       "<tr>\n",
       "  <th>x4</th>  <td>-0.5412</td> <td>9034732.5670</td>  <td>-0.0000</td> <td>1.0000</td> <td>-17707750.9824</td> <td>17707749.9000</td>\n",
       "</tr>\n",
       "<tr>\n",
       "  <th>x5</th>  <td>-1.1234</td>    <td>0.2351</td>     <td>-4.7773</td> <td>0.0000</td>     <td>-1.5842</td>       <td>-0.6625</td>   \n",
       "</tr>\n",
       "<tr>\n",
       "  <th>x6</th>  <td>2.3250</td>     <td>0.4401</td>     <td>5.2832</td>  <td>0.0000</td>     <td>1.4625</td>        <td>3.1875</td>    \n",
       "</tr>\n",
       "<tr>\n",
       "  <th>x7</th>  <td>0.1711</td>     <td>0.1790</td>     <td>0.9561</td>  <td>0.3390</td>     <td>-0.1797</td>       <td>0.5220</td>    \n",
       "</tr>\n",
       "<tr>\n",
       "  <th>x8</th>  <td>-0.2115</td>    <td>0.1770</td>     <td>-1.1950</td> <td>0.2321</td>     <td>-0.5583</td>       <td>0.1354</td>    \n",
       "</tr>\n",
       "<tr>\n",
       "  <th>x9</th>  <td>0.0724</td>     <td>0.1738</td>     <td>0.4166</td>  <td>0.6770</td>     <td>-0.2683</td>       <td>0.4131</td>    \n",
       "</tr>\n",
       "<tr>\n",
       "  <th>x10</th> <td>0.2003</td>     <td>0.1772</td>     <td>1.1301</td>  <td>0.2584</td>     <td>-0.1471</td>       <td>0.5476</td>    \n",
       "</tr>\n",
       "<tr>\n",
       "  <th>x11</th> <td>-0.1042</td>    <td>0.1804</td>     <td>-0.5778</td> <td>0.5634</td>     <td>-0.4578</td>       <td>0.2493</td>    \n",
       "</tr>\n",
       "<tr>\n",
       "  <th>x12</th> <td>-0.2749</td>    <td>0.1764</td>     <td>-1.5579</td> <td>0.1193</td>     <td>-0.6207</td>       <td>0.0709</td>    \n",
       "</tr>\n",
       "</table>"
      ],
      "text/plain": [
       "<class 'statsmodels.iolib.summary2.Summary'>\n",
       "\"\"\"\n",
       "                           Results: Logit\n",
       "=====================================================================\n",
       "Model:                Logit             Pseudo R-squared:  0.248     \n",
       "Dependent Variable:   status            AIC:               229.3058  \n",
       "Date:                 2019-08-27 12:01  BIC:               269.8646  \n",
       "No. Observations:     217               Log-Likelihood:    -102.65   \n",
       "Df Model:             11                LL-Null:           -136.45   \n",
       "Df Residuals:         205               LLR p-value:       3.4943e-10\n",
       "Converged:            0.0000            Scale:             1.0000    \n",
       "No. Iterations:       35.0000                                        \n",
       "---------------------------------------------------------------------\n",
       "     Coef.     Std.Err.      z    P>|z|      [0.025         0.975]   \n",
       "---------------------------------------------------------------------\n",
       "x1   0.0814 11482676.3676  0.0000 1.0000 -22505632.0452 22505632.2080\n",
       "x2   0.0765  6545064.3181  0.0000 1.0000 -12828090.2634 12828090.4165\n",
       "x3  -0.2797        0.3142 -0.8904 0.3733        -0.8955        0.3361\n",
       "x4  -0.5412  9034732.5670 -0.0000 1.0000 -17707750.9824 17707749.9000\n",
       "x5  -1.1234        0.2351 -4.7773 0.0000        -1.5842       -0.6625\n",
       "x6   2.3250        0.4401  5.2832 0.0000         1.4625        3.1875\n",
       "x7   0.1711        0.1790  0.9561 0.3390        -0.1797        0.5220\n",
       "x8  -0.2115        0.1770 -1.1950 0.2321        -0.5583        0.1354\n",
       "x9   0.0724        0.1738  0.4166 0.6770        -0.2683        0.4131\n",
       "x10  0.2003        0.1772  1.1301 0.2584        -0.1471        0.5476\n",
       "x11 -0.1042        0.1804 -0.5778 0.5634        -0.4578        0.2493\n",
       "x12 -0.2749        0.1764 -1.5579 0.1193        -0.6207        0.0709\n",
       "=====================================================================\n",
       "\n",
       "\"\"\""
      ]
     },
     "execution_count": 24,
     "metadata": {},
     "output_type": "execute_result"
    }
   ],
   "source": [
    "import statsmodels.api as sm\n",
    "logit_model = sm.Logit(ytrain,xtrain_scaled)\n",
    "result = logit_model.fit()\n",
    "result.summary2()"
   ]
  },
  {
   "cell_type": "code",
   "execution_count": 25,
   "metadata": {},
   "outputs": [],
   "source": [
    "# remove highly correlated variables which also had high std error\n",
    "cols_to_include = [col for col in x.columns if col not in ['pelvic_incidence','pelvic_tilt','sacral_slope']]\n",
    "x = bp[cols_to_include]"
   ]
  },
  {
   "cell_type": "code",
   "execution_count": 26,
   "metadata": {},
   "outputs": [
    {
     "name": "stdout",
     "output_type": "stream",
     "text": [
      "Training set score = 0.848\n",
      "Test set score = 0.742\n"
     ]
    },
    {
     "name": "stderr",
     "output_type": "stream",
     "text": [
      "C:\\Users\\mohit\\Anaconda3\\lib\\site-packages\\sklearn\\linear_model\\logistic.py:433: FutureWarning: Default solver will be changed to 'lbfgs' in 0.22. Specify a solver to silence this warning.\n",
      "  FutureWarning)\n"
     ]
    }
   ],
   "source": [
    "xtrain_scaled, xtest_scaled, ytrain, ytest = data_preprocess(x,y)\n",
    "logreg_result = logistic_regression(xtrain_scaled, ytrain)\n",
    "print('Training set score = {:.3f}'.format(logreg_result.score(xtrain_scaled,ytrain)))\n",
    "print('Test set score = {:.3f}'.format(logreg_result.score(xtest_scaled,ytest)))"
   ]
  },
  {
   "cell_type": "code",
   "execution_count": 27,
   "metadata": {},
   "outputs": [
    {
     "name": "stdout",
     "output_type": "stream",
     "text": [
      "Optimization terminated successfully.\n",
      "         Current function value: 0.481933\n",
      "         Iterations 7\n"
     ]
    },
    {
     "data": {
      "text/html": [
       "<table class=\"simpletable\">\n",
       "<tr>\n",
       "        <td>Model:</td>              <td>Logit</td>      <td>Pseudo R-squared:</td>    <td>0.234</td>  \n",
       "</tr>\n",
       "<tr>\n",
       "  <td>Dependent Variable:</td>      <td>status</td>            <td>AIC:</td>         <td>227.1591</td> \n",
       "</tr>\n",
       "<tr>\n",
       "         <td>Date:</td>        <td>2019-08-27 12:01</td>       <td>BIC:</td>         <td>257.5781</td> \n",
       "</tr>\n",
       "<tr>\n",
       "   <td>No. Observations:</td>         <td>217</td>        <td>Log-Likelihood:</td>    <td>-104.58</td> \n",
       "</tr>\n",
       "<tr>\n",
       "       <td>Df Model:</td>              <td>8</td>            <td>LL-Null:</td>        <td>-136.45</td> \n",
       "</tr>\n",
       "<tr>\n",
       "     <td>Df Residuals:</td>           <td>208</td>         <td>LLR p-value:</td>    <td>8.5613e-11</td>\n",
       "</tr>\n",
       "<tr>\n",
       "      <td>Converged:</td>           <td>1.0000</td>           <td>Scale:</td>         <td>1.0000</td>  \n",
       "</tr>\n",
       "<tr>\n",
       "    <td>No. Iterations:</td>        <td>7.0000</td>              <td></td>               <td></td>     \n",
       "</tr>\n",
       "</table>\n",
       "<table class=\"simpletable\">\n",
       "<tr>\n",
       "   <td></td>   <th>Coef.</th>  <th>Std.Err.</th>    <th>z</th>     <th>P>|z|</th> <th>[0.025</th>  <th>0.975]</th> \n",
       "</tr>\n",
       "<tr>\n",
       "  <th>x1</th> <td>-0.5434</td>  <td>0.2568</td>  <td>-2.1158</td> <td>0.0344</td> <td>-1.0468</td> <td>-0.0400</td>\n",
       "</tr>\n",
       "<tr>\n",
       "  <th>x2</th> <td>-0.9642</td>  <td>0.2080</td>  <td>-4.6364</td> <td>0.0000</td> <td>-1.3719</td> <td>-0.5566</td>\n",
       "</tr>\n",
       "<tr>\n",
       "  <th>x3</th> <td>2.2963</td>   <td>0.4142</td>  <td>5.5443</td>  <td>0.0000</td> <td>1.4846</td>  <td>3.1081</td> \n",
       "</tr>\n",
       "<tr>\n",
       "  <th>x4</th> <td>0.1499</td>   <td>0.1771</td>  <td>0.8464</td>  <td>0.3974</td> <td>-0.1972</td> <td>0.4971</td> \n",
       "</tr>\n",
       "<tr>\n",
       "  <th>x5</th> <td>-0.2442</td>  <td>0.1738</td>  <td>-1.4047</td> <td>0.1601</td> <td>-0.5849</td> <td>0.0965</td> \n",
       "</tr>\n",
       "<tr>\n",
       "  <th>x6</th> <td>0.0640</td>   <td>0.1732</td>  <td>0.3694</td>  <td>0.7118</td> <td>-0.2754</td> <td>0.4034</td> \n",
       "</tr>\n",
       "<tr>\n",
       "  <th>x7</th> <td>0.2068</td>   <td>0.1747</td>  <td>1.1841</td>  <td>0.2364</td> <td>-0.1355</td> <td>0.5491</td> \n",
       "</tr>\n",
       "<tr>\n",
       "  <th>x8</th> <td>-0.1183</td>  <td>0.1777</td>  <td>-0.6660</td> <td>0.5054</td> <td>-0.4666</td> <td>0.2299</td> \n",
       "</tr>\n",
       "<tr>\n",
       "  <th>x9</th> <td>-0.2872</td>  <td>0.1736</td>  <td>-1.6547</td> <td>0.0980</td> <td>-0.6274</td> <td>0.0530</td> \n",
       "</tr>\n",
       "</table>"
      ],
      "text/plain": [
       "<class 'statsmodels.iolib.summary2.Summary'>\n",
       "\"\"\"\n",
       "                         Results: Logit\n",
       "=================================================================\n",
       "Model:              Logit            Pseudo R-squared: 0.234     \n",
       "Dependent Variable: status           AIC:              227.1591  \n",
       "Date:               2019-08-27 12:01 BIC:              257.5781  \n",
       "No. Observations:   217              Log-Likelihood:   -104.58   \n",
       "Df Model:           8                LL-Null:          -136.45   \n",
       "Df Residuals:       208              LLR p-value:      8.5613e-11\n",
       "Converged:          1.0000           Scale:            1.0000    \n",
       "No. Iterations:     7.0000                                       \n",
       "--------------------------------------------------------------------\n",
       "       Coef.     Std.Err.       z       P>|z|      [0.025     0.975]\n",
       "--------------------------------------------------------------------\n",
       "x1    -0.5434      0.2568    -2.1158    0.0344    -1.0468    -0.0400\n",
       "x2    -0.9642      0.2080    -4.6364    0.0000    -1.3719    -0.5566\n",
       "x3     2.2963      0.4142     5.5443    0.0000     1.4846     3.1081\n",
       "x4     0.1499      0.1771     0.8464    0.3974    -0.1972     0.4971\n",
       "x5    -0.2442      0.1738    -1.4047    0.1601    -0.5849     0.0965\n",
       "x6     0.0640      0.1732     0.3694    0.7118    -0.2754     0.4034\n",
       "x7     0.2068      0.1747     1.1841    0.2364    -0.1355     0.5491\n",
       "x8    -0.1183      0.1777    -0.6660    0.5054    -0.4666     0.2299\n",
       "x9    -0.2872      0.1736    -1.6547    0.0980    -0.6274     0.0530\n",
       "=================================================================\n",
       "\n",
       "\"\"\""
      ]
     },
     "execution_count": 27,
     "metadata": {},
     "output_type": "execute_result"
    }
   ],
   "source": [
    "logit_model = sm.Logit(ytrain,xtrain_scaled)\n",
    "result = logit_model.fit()\n",
    "result.summary2()"
   ]
  },
  {
   "cell_type": "code",
   "execution_count": 28,
   "metadata": {},
   "outputs": [
    {
     "name": "stdout",
     "output_type": "stream",
     "text": [
      "Before Scaling\n",
      "Training set score = 0.839\n",
      "Test set score = 0.806\n",
      "\n",
      "After scaling:\n",
      "Training set score = 0.848\n",
      "Test set score = 0.742\n"
     ]
    },
    {
     "name": "stderr",
     "output_type": "stream",
     "text": [
      "C:\\Users\\mohit\\Anaconda3\\lib\\site-packages\\sklearn\\linear_model\\logistic.py:433: FutureWarning: Default solver will be changed to 'lbfgs' in 0.22. Specify a solver to silence this warning.\n",
      "  FutureWarning)\n",
      "C:\\Users\\mohit\\Anaconda3\\lib\\site-packages\\sklearn\\linear_model\\logistic.py:433: FutureWarning: Default solver will be changed to 'lbfgs' in 0.22. Specify a solver to silence this warning.\n",
      "  FutureWarning)\n"
     ]
    }
   ],
   "source": [
    "# remove variables with which is causing multicollinearity and high std error\n",
    "cols_to_include = [col for col in bp.columns if col not in ['pelvic_incidence','pelvic_tilt','sacral_slope','status']]\n",
    "x = bp[cols_to_include]\n",
    "y = bp['status']\n",
    "xtrain,xtest,ytrain,ytest = train_test_split(x,y,test_size=0.3,random_state=0)\n",
    "logreg_result = logistic_regression(xtrain, ytrain)\n",
    "print('Before Scaling')\n",
    "print('Training set score = {:.3f}'.format(logreg_result.score(xtrain,ytrain)))\n",
    "print('Test set score = {:.3f}'.format(logreg_result.score(xtest,ytest)))\n",
    "print('\\nAfter scaling:')\n",
    "xtrain_scaled, xtest_scaled, ytrain, ytest = data_preprocess(x,y)\n",
    "logreg_result = logistic_regression(xtrain_scaled, ytrain)\n",
    "print('Training set score = {:.3f}'.format(logreg_result.score(xtrain_scaled,ytrain)))\n",
    "print('Test set score = {:.3f}'.format(logreg_result.score(xtest_scaled,ytest)))"
   ]
  },
  {
   "cell_type": "code",
   "execution_count": 29,
   "metadata": {},
   "outputs": [
    {
     "name": "stdout",
     "output_type": "stream",
     "text": [
      "Before Scaling\n",
      "Training set score = 0.802\n",
      "Test set score = 0.763\n",
      "\n",
      "After scaling:\n",
      "Training set score = 0.820\n",
      "Test set score = 0.774\n"
     ]
    },
    {
     "name": "stderr",
     "output_type": "stream",
     "text": [
      "C:\\Users\\mohit\\Anaconda3\\lib\\site-packages\\sklearn\\linear_model\\logistic.py:433: FutureWarning: Default solver will be changed to 'lbfgs' in 0.22. Specify a solver to silence this warning.\n",
      "  FutureWarning)\n",
      "C:\\Users\\mohit\\Anaconda3\\lib\\site-packages\\sklearn\\linear_model\\logistic.py:433: FutureWarning: Default solver will be changed to 'lbfgs' in 0.22. Specify a solver to silence this warning.\n",
      "  FutureWarning)\n"
     ]
    }
   ],
   "source": [
    "# remove independent vars whose p-value > 0.05\n",
    "cols_to_include = ['pelvic_radius','degree_spondylolisthesis']\n",
    "x = bp[cols_to_include]\n",
    "y = bp['status']\n",
    "xtrain,xtest,ytrain,ytest = train_test_split(x,y,test_size=0.3,random_state=0)\n",
    "logreg_result = logistic_regression(xtrain, ytrain)\n",
    "print('Before Scaling')\n",
    "print('Training set score = {:.3f}'.format(logreg_result.score(xtrain,ytrain)))\n",
    "print('Test set score = {:.3f}'.format(logreg_result.score(xtest,ytest)))\n",
    "print('\\nAfter scaling:')\n",
    "xtrain_scaled, xtest_scaled, ytrain, ytest = data_preprocess(x,y)\n",
    "logreg_result = logistic_regression(xtrain_scaled, ytrain)\n",
    "print('Training set score = {:.3f}'.format(logreg_result.score(xtrain_scaled,ytrain)))\n",
    "print('Test set score = {:.3f}'.format(logreg_result.score(xtest_scaled,ytest)))"
   ]
  },
  {
   "cell_type": "code",
   "execution_count": 30,
   "metadata": {},
   "outputs": [
    {
     "name": "stderr",
     "output_type": "stream",
     "text": [
      "C:\\Users\\mohit\\Anaconda3\\lib\\site-packages\\sklearn\\linear_model\\logistic.py:433: FutureWarning: Default solver will be changed to 'lbfgs' in 0.22. Specify a solver to silence this warning.\n",
      "  FutureWarning)\n"
     ]
    }
   ],
   "source": [
    "cols_to_include = ['pelvic_radius','degree_spondylolisthesis']\n",
    "x = bp[cols_to_include]\n",
    "y = bp['status']\n",
    "xtrain_scaled, xtest_scaled, ytrain, ytest = data_preprocess(x,y)\n",
    "logreg_result = logistic_regression(xtrain_scaled, ytrain)"
   ]
  },
  {
   "cell_type": "code",
   "execution_count": 31,
   "metadata": {},
   "outputs": [],
   "source": [
    "ypred = logreg_result.predict(xtest_scaled)\n",
    "\n",
    "ypred_str = ypred.astype(str)\n",
    "ypred_str[np.where(ypred_str == '0')] = 'Normal'\n",
    "ypred_str[np.where(ypred_str == '1')] = 'Abnormal'\n",
    "\n",
    "ytest_str = ytest.astype(str)\n",
    "ytest_str[ytest_str == '0'] = 'Normal'\n",
    "ytest_str[ytest_str == '1'] = 'Abnormal'"
   ]
  },
  {
   "cell_type": "code",
   "execution_count": 32,
   "metadata": {},
   "outputs": [
    {
     "data": {
      "image/png": "[encoded data removed]",
      "text/plain": [
       "<Figure size 432x288 with 2 Axes>"
      ]
     },
     "metadata": {
      "needs_background": "light"
     },
     "output_type": "display_data"
    }
   ],
   "source": [
    "from sklearn.metrics import confusion_matrix\n",
    "labels = ['Abnormal','Normal']\n",
    "cm = confusion_matrix(ytest_str,ypred_str,labels)\n",
    "ax = sns.heatmap(cm,annot=True)\n",
    "\n",
    "ax.set_xlabel('Predicted labels')\n",
    "ax.set_ylabel('True Labels')\n",
    "ax.set_title('Confusion Matrix')\n",
    "ax.xaxis.set_ticklabels(labels)\n",
    "ax.yaxis.set_ticklabels(labels)\n",
    "plt.show()"
   ]
  },
  {
   "cell_type": "code",
   "execution_count": 33,
   "metadata": {},
   "outputs": [],
   "source": [
    "tp = cm[0,0]\n",
    "fn = cm[0,1]\n",
    "fp = cm[1,0]\n",
    "tn = cm[1,1]"
   ]
  },
  {
   "cell_type": "code",
   "execution_count": 34,
   "metadata": {},
   "outputs": [
    {
     "name": "stdout",
     "output_type": "stream",
     "text": [
      "Accuracy = 0.7741935483870968\n",
      "Sensitivity = 0.7619047619047619\n",
      "Specificity = 0.8\n"
     ]
    }
   ],
   "source": [
    "accuracy = (tp+tn)/(tp+fn+fp+tn)\n",
    "sensitivity = tp/(tp+fn)\n",
    "specificity = tn/(tn+fp)\n",
    "print('Accuracy =',accuracy)\n",
    "print('Sensitivity =',sensitivity)\n",
    "print('Specificity =',specificity)"
   ]
  },
  {
   "cell_type": "code",
   "execution_count": 35,
   "metadata": {},
   "outputs": [
    {
     "data": {
      "image/png": "[encoded data removed]",
      "text/plain": [
       "<Figure size 432x288 with 1 Axes>"
      ]
     },
     "metadata": {
      "needs_background": "light"
     },
     "output_type": "display_data"
    }
   ],
   "source": [
    "from sklearn.metrics import roc_curve,roc_auc_score\n",
    "yprob = logreg_result.predict_proba(xtest_scaled)\n",
    "fpr,tpr,threshold = roc_curve(ytest,yprob[:,1])\n",
    "plt.plot(fpr,tpr)\n",
    "plt.xlabel('FPR')\n",
    "plt.ylabel('TPR')\n",
    "plt.title('ROC Curve')\n",
    "plt.show()"
   ]
  },
  {
   "cell_type": "code",
   "execution_count": 36,
   "metadata": {},
   "outputs": [
    {
     "data": {
      "text/plain": [
       "0.8656084656084656"
      ]
     },
     "execution_count": 36,
     "metadata": {},
     "output_type": "execute_result"
    }
   ],
   "source": [
    "roc_auc_score(ytest,yprob[:,1])"
   ]
  },
  {
   "cell_type": "code",
   "execution_count": 40,
   "metadata": {},
   "outputs": [
    {
     "data": {
      "text/plain": [
       "array([0.        , 0.01587302, 0.47619048, 0.44285714, 0.64920635,\n",
       "       0.58253968, 0.61428571, 0.51428571, 0.59365079, 0.56031746,\n",
       "       0.57619048, 0.47619048, 0.50793651, 0.47460317, 0.49047619,\n",
       "       0.42380952, 0.47142857, 0.37142857, 0.38730159, 0.28730159,\n",
       "       0.3031746 , 0.26984127, 0.3015873 , 0.1015873 , 0.11746032,\n",
       "       0.08412698, 0.1       , 0.        ])"
      ]
     },
     "execution_count": 40,
     "metadata": {},
     "output_type": "execute_result"
    }
   ],
   "source": [
    "tpr-fpr"
   ]
  },
  {
   "cell_type": "code",
   "execution_count": null,
   "metadata": {},
   "outputs": [],
   "source": []
  }
 ],
 "metadata": {
  "kernelspec": {
   "display_name": "Python 3",
   "language": "python",
   "name": "python3"
  },
  "language_info": {
   "codemirror_mode": {
    "name": "ipython",
    "version": 3
   },
   "file_extension": ".py",
   "mimetype": "text/x-python",
   "name": "python",
   "nbconvert_exporter": "python",
   "pygments_lexer": "ipython3",
   "version": "3.7.3"
  },
  "toc": {
   "base_numbering": 1,
   "nav_menu": {},
   "number_sections": false,
   "sideBar": true,
   "skip_h1_title": true,
   "title_cell": "Table of Contents",
   "title_sidebar": "Contents",
   "toc_cell": false,
   "toc_position": {},
   "toc_section_display": true,
   "toc_window_display": false
  }
 },
 "nbformat": 4,
 "nbformat_minor": 2
}
